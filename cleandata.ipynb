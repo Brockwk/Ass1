from google.cloud import storage
import pandas as pd
from io import StringIO

# Initialize the Google Cloud Storage client
storage_client = storage.Client()

# Define the bucket and file name
bucket_name = 'zago1'  # Replace with your bucket name
blob_name = 'data.csv'  # Replace with your file name

# Access the bucket and blob
bucket = storage_client.bucket(bucket_name)
blob = bucket.blob(blob_name)

# Download the data as a string
data = blob.download_as_text()

# Load the data into a pandas DataFrame
df = pd.read_csv(StringIO(data))

# Clean the data (remove duplicates, fill nulls)
df.drop_duplicates(inplace=True)
df.fillna('null', inplace=True)

print(df)  # Show the cleaned data
